{
 "cells": [
  {
   "cell_type": "code",
   "execution_count": 1,
   "metadata": {},
   "outputs": [],
   "source": [
    "from pyspark.sql import SparkSession"
   ]
  },
  {
   "cell_type": "code",
   "execution_count": 2,
   "metadata": {},
   "outputs": [],
   "source": [
    "SPARK = (\n",
    "    SparkSession.builder.appName(\"LogsAnalysisWithSpark\")\n",
    "    .master(f\"local[1]\")\n",
    "    .getOrCreate())"
   ]
  },
  {
   "cell_type": "code",
   "execution_count": 12,
   "metadata": {},
   "outputs": [],
   "source": [
    "calls = \"./calls_sample.json\"\n",
    "info = \"./callInfo_sample.json\"\n",
    "roster = \"./roster_sample.json\""
   ]
  },
  {
   "cell_type": "code",
   "execution_count": 13,
   "metadata": {},
   "outputs": [],
   "source": [
    "calls_df = SPARK.read.json(calls)\n",
    "info_df = SPARK.read.json(info)\n",
    "roster_df = SPARK.read.json(roster)"
   ]
  },
  {
   "cell_type": "code",
   "execution_count": 14,
   "metadata": {},
   "outputs": [
    {
     "name": "stdout",
     "output_type": "stream",
     "text": [
      "root\n",
      " |-- date: string (nullable = true)\n",
      " |-- message: struct (nullable = true)\n",
      " |    |-- messageId: long (nullable = true)\n",
      " |    |-- subscriptionIndex: long (nullable = true)\n",
      " |    |-- type: string (nullable = true)\n",
      " |    |-- updates: array (nullable = true)\n",
      " |    |    |-- element: struct (containsNull = true)\n",
      " |    |    |    |-- call: string (nullable = true)\n",
      " |    |    |    |-- callCorrelator: string (nullable = true)\n",
      " |    |    |    |-- callType: string (nullable = true)\n",
      " |    |    |    |-- distributedInstances: long (nullable = true)\n",
      " |    |    |    |-- endpointRecording: string (nullable = true)\n",
      " |    |    |    |-- lockState: string (nullable = true)\n",
      " |    |    |    |-- name: string (nullable = true)\n",
      " |    |    |    |-- participants: long (nullable = true)\n",
      " |    |    |    |-- recording: string (nullable = true)\n",
      " |    |    |    |-- streaming: string (nullable = true)\n",
      " |    |    |    |-- updateType: string (nullable = true)\n",
      " |-- startDatetime: string (nullable = true)\n",
      " |-- type: string (nullable = true)\n",
      "\n"
     ]
    }
   ],
   "source": [
    "calls_df.printSchema()"
   ]
  },
  {
   "cell_type": "code",
   "execution_count": 8,
   "metadata": {},
   "outputs": [
    {
     "name": "stdout",
     "output_type": "stream",
     "text": [
      "root\n",
      " |-- date: string (nullable = true)\n",
      " |-- message: struct (nullable = true)\n",
      " |    |-- callInfo: struct (nullable = true)\n",
      " |    |    |-- call: string (nullable = true)\n",
      " |    |    |-- callCorrelator: string (nullable = true)\n",
      " |    |    |-- callType: string (nullable = true)\n",
      " |    |    |-- distributedInstances: double (nullable = true)\n",
      " |    |    |-- endpointRecording: string (nullable = true)\n",
      " |    |    |-- joinAudioMuteOverride: double (nullable = true)\n",
      " |    |    |-- lockState: string (nullable = true)\n",
      " |    |    |-- name: string (nullable = true)\n",
      " |    |    |-- participants: double (nullable = true)\n",
      " |    |    |-- recording: string (nullable = true)\n",
      " |    |    |-- streaming: string (nullable = true)\n",
      " |    |-- messageId: long (nullable = true)\n",
      " |    |-- subscriptionIndex: long (nullable = true)\n",
      " |    |-- type: string (nullable = true)\n",
      " |-- startDatetime: string (nullable = true)\n",
      " |-- type: string (nullable = true)\n",
      "\n"
     ]
    }
   ],
   "source": [
    "info_df.printSchema()"
   ]
  },
  {
   "cell_type": "code",
   "execution_count": 15,
   "metadata": {},
   "outputs": [
    {
     "name": "stdout",
     "output_type": "stream",
     "text": [
      "root\n",
      " |-- call: string (nullable = true)\n",
      " |-- date: string (nullable = true)\n",
      " |-- message: struct (nullable = true)\n",
      " |    |-- messageId: long (nullable = true)\n",
      " |    |-- subscriptionIndex: long (nullable = true)\n",
      " |    |-- type: string (nullable = true)\n",
      " |    |-- updates: array (nullable = true)\n",
      " |    |    |-- element: struct (containsNull = true)\n",
      " |    |    |    |-- activeSpeaker: boolean (nullable = true)\n",
      " |    |    |    |-- canMove: boolean (nullable = true)\n",
      " |    |    |    |-- direction: string (nullable = true)\n",
      " |    |    |    |-- endpointRecording: string (nullable = true)\n",
      " |    |    |    |-- layout: string (nullable = true)\n",
      " |    |    |    |-- movedParticipant: string (nullable = true)\n",
      " |    |    |    |-- movedParticipantCallBridge: string (nullable = true)\n",
      " |    |    |    |-- name: string (nullable = true)\n",
      " |    |    |    |-- participant: string (nullable = true)\n",
      " |    |    |    |-- presenter: boolean (nullable = true)\n",
      " |    |    |    |-- state: string (nullable = true)\n",
      " |    |    |    |-- updateType: string (nullable = true)\n",
      " |    |    |    |-- uri: string (nullable = true)\n",
      " |-- name: string (nullable = true)\n",
      " |-- startDatetime: string (nullable = true)\n",
      " |-- type: string (nullable = true)\n",
      "\n"
     ]
    }
   ],
   "source": [
    "roster_df.printSchema()"
   ]
  },
  {
   "cell_type": "code",
   "execution_count": null,
   "metadata": {},
   "outputs": [],
   "source": []
  }
 ],
 "metadata": {
  "kernelspec": {
   "display_name": "Python 3",
   "language": "python",
   "name": "python3"
  },
  "language_info": {
   "codemirror_mode": {
    "name": "ipython",
    "version": 3
   },
   "file_extension": ".py",
   "mimetype": "text/x-python",
   "name": "python",
   "nbconvert_exporter": "python",
   "pygments_lexer": "ipython3",
   "version": "3.8.6"
  }
 },
 "nbformat": 4,
 "nbformat_minor": 4
}
